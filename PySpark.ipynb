{
  "nbformat": 4,
  "nbformat_minor": 0,
  "metadata": {
    "colab": {
      "provenance": [],
      "authorship_tag": "ABX9TyPikvsqu1cLCSPMwNRDgSEV",
      "include_colab_link": true
    },
    "kernelspec": {
      "name": "python3",
      "display_name": "Python 3"
    },
    "language_info": {
      "name": "python"
    }
  },
  "cells": [
    {
      "cell_type": "markdown",
      "metadata": {
        "id": "view-in-github",
        "colab_type": "text"
      },
      "source": [
        "<a href=\"https://colab.research.google.com/github/Mauro2105/BackendExplorer/blob/main/PySpark.ipynb\" target=\"_parent\"><img src=\"https://colab.research.google.com/assets/colab-badge.svg\" alt=\"Open In Colab\"/></a>"
      ]
    },
    {
      "cell_type": "markdown",
      "source": [
        "## Uso de Datagrames de python en la API de Spark para tareas de ingeniería de datos"
      ],
      "metadata": {
        "id": "bJG3XWoF1za0"
      }
    },
    {
      "cell_type": "code",
      "execution_count": 1,
      "metadata": {
        "colab": {
          "base_uri": "https://localhost:8080/"
        },
        "id": "1soYjuK6yVtV",
        "outputId": "23daa7ad-5d68-457f-b54c-4f4761becb6b"
      },
      "outputs": [
        {
          "output_type": "stream",
          "name": "stdout",
          "text": [
            "Requirement already satisfied: pyspark in /usr/local/lib/python3.11/dist-packages (3.5.5)\n",
            "Requirement already satisfied: py4j==0.10.9.7 in /usr/local/lib/python3.11/dist-packages (from pyspark) (0.10.9.7)\n"
          ]
        }
      ],
      "source": [
        "!pip install pyspark"
      ]
    },
    {
      "cell_type": "markdown",
      "source": [
        "1. Importación del módulo sql de PySpark"
      ],
      "metadata": {
        "id": "Tx0G9Agnyksc"
      }
    },
    {
      "cell_type": "code",
      "source": [
        "from pyspark.sql import *"
      ],
      "metadata": {
        "id": "_HrO_jmFyhQL"
      },
      "execution_count": 2,
      "outputs": []
    },
    {
      "cell_type": "markdown",
      "source": [
        "2. Creación de datos"
      ],
      "metadata": {
        "id": "pbfgCkWvy4bQ"
      }
    },
    {
      "cell_type": "code",
      "source": [
        "from os import name\n",
        "department1 = Row(id='123456', name='Computer Science')\n",
        "department2 = Row(id='789012', name='Mechanical Engineering')\n",
        "department3 = Row(id='345678', name='Theater and Drama')\n",
        "department4 = Row(id='901234', name='Indoor Recreation')"
      ],
      "metadata": {
        "id": "q2xIbAqGy4MB"
      },
      "execution_count": 3,
      "outputs": []
    },
    {
      "cell_type": "markdown",
      "source": [
        "3. Creación de empleados"
      ],
      "metadata": {
        "id": "66meFYLuz9Bb"
      }
    },
    {
      "cell_type": "code",
      "source": [
        "Employee = Row(\"firstName\", \"lastName\", \"email\", \"salary\")\n",
        "employee1 = Employee('michael', 'armbrust', 'no-reply@berkeley.edu', 100000)\n",
        "employee2 = Employee('xiangrui', 'meng', 'no-reply@stanford.edu', 120000)\n",
        "employee3 = Employee('matei', None, 'no-reply@waterloo.edu', 140000)\n",
        "employee4 = Employee(None, 'wendell', 'no-reply@berkeley.edu', 160000)\n",
        "employee5 = Employee('michael', 'jackson', 'no-reply@neverla.nd', 80000)\n"
      ],
      "metadata": {
        "id": "LC721RF3z-0N"
      },
      "execution_count": 4,
      "outputs": []
    },
    {
      "cell_type": "markdown",
      "source": [
        "3. Creación de la relación entre departamentos y empleados"
      ],
      "metadata": {
        "id": "TlSQ2Pm30z3T"
      }
    },
    {
      "cell_type": "code",
      "source": [
        "departmentWithEmployees1 = Row(department=department1, employees=[employee1, employee2])\n",
        "departmentWithEmployees2 = Row(department=department2, employees=[employee3, employee4])\n",
        "departmentWithEmployees3 = Row(department=department3, employees=[employee5, employee4])\n",
        "departmentWithEmployees4 = Row(department=department4, employees=[employee2, employee3])\n"
      ],
      "metadata": {
        "id": "pEO-QZxc0y5E"
      },
      "execution_count": 5,
      "outputs": []
    },
    {
      "cell_type": "markdown",
      "source": [
        "4. Imprimir información"
      ],
      "metadata": {
        "id": "KFR4ZI4O1cE2"
      }
    },
    {
      "cell_type": "code",
      "source": [
        "print(department1)\n",
        "print(employee2)\n",
        "print(departmentWithEmployees1.employees[0].email)"
      ],
      "metadata": {
        "colab": {
          "base_uri": "https://localhost:8080/"
        },
        "id": "1tksTCw81hXT",
        "outputId": "65d669d0-68f1-4bbe-c710-08790aece501"
      },
      "execution_count": 6,
      "outputs": [
        {
          "output_type": "stream",
          "name": "stdout",
          "text": [
            "Row(id='123456', name='Computer Science')\n",
            "Row(firstName='xiangrui', lastName='meng', email='no-reply@stanford.edu', salary=120000)\n",
            "no-reply@berkeley.edu\n"
          ]
        }
      ]
    },
    {
      "cell_type": "markdown",
      "source": [
        "### Crear DataFrames desde listas de filas (Rows)"
      ],
      "metadata": {
        "id": "gLU2aqPq2KQ5"
      }
    },
    {
      "cell_type": "code",
      "source": [
        "from pyspark.sql import SparkSession, Row\n",
        "\n",
        "# Crea la sesión de Spark\n",
        "spark = SparkSession.builder \\\n",
        "    .appName(\"Ejemplo DataFrames\") \\\n",
        "    .getOrCreate()\n",
        "\n",
        "# Crear DataFrames desde una lista de Rows (filas)\n",
        "\n",
        "# Lista con departamentos y empleados previamente creados\n",
        "departmentsWithEmployeesSeq1 = [departmentWithEmployees1, departmentWithEmployees2]\n",
        "\n",
        "# Crear un DataFrame usando Spark a partir de la lista anterior\n",
        "df1 = spark.createDataFrame(departmentsWithEmployeesSeq1)\n",
        "\n",
        "# Mostrar el DataFrame df1\n",
        "display(df1)\n",
        "\n",
        "# Segunda lista con otros departamentos y empleados previamente creados\n",
        "departmentsWithEmployeesSeq2 = [departmentWithEmployees3, departmentWithEmployees4]\n",
        "\n",
        "# Crear otro DataFrame con Spark desde esta segunda lista\n",
        "df2 = spark.createDataFrame(departmentsWithEmployeesSeq2)\n",
        "\n",
        "# Mostrar el DataFrame df2\n",
        "display(df2)\n"
      ],
      "metadata": {
        "colab": {
          "base_uri": "https://localhost:8080/",
          "height": 86
        },
        "id": "JzwNrBxR2Dow",
        "outputId": "e187b0ec-33cd-4478-b4b2-9c554f8c0076"
      },
      "execution_count": 9,
      "outputs": [
        {
          "output_type": "display_data",
          "data": {
            "text/plain": [
              "DataFrame[department: struct<id:string,name:string>, employees: array<struct<firstName:string,lastName:string,email:string,salary:bigint>>]"
            ]
          },
          "metadata": {}
        },
        {
          "output_type": "display_data",
          "data": {
            "text/plain": [
              "DataFrame[department: struct<id:string,name:string>, employees: array<struct<firstName:string,lastName:string,email:string,salary:bigint>>]"
            ]
          },
          "metadata": {}
        }
      ]
    },
    {
      "cell_type": "code",
      "source": [],
      "metadata": {
        "id": "XjqS5JXA71_U"
      },
      "execution_count": null,
      "outputs": []
    }
  ]
}